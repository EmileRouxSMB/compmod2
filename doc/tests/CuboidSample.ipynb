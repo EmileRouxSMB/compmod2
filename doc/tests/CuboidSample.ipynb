{
 "cells": [
  {
   "cell_type": "code",
   "execution_count": 3,
   "metadata": {},
   "outputs": [
    {
     "name": "stdout",
     "output_type": "stream",
     "text": [
      "The autoreload extension is already loaded. To reload it, use:\n",
      "  %reload_ext autoreload\n",
      "The line_profiler extension is already loaded. To reload it, use:\n",
      "  %reload_ext line_profiler\n"
     ]
    }
   ],
   "source": [
    "%load_ext autoreload\n",
    "%load_ext line_profiler\n",
    "%autoreload 2"
   ]
  },
  {
   "cell_type": "code",
   "execution_count": 78,
   "metadata": {},
   "outputs": [],
   "source": [
    "import compmod2 as cp2\n",
    "import argiope as ag\n",
    "import pandas as pd\n",
    "import numpy as np\n",
    "from string import Template\n",
    "import inspect, os, local_settings\n",
    "\n"
   ]
  },
  {
   "cell_type": "code",
   "execution_count": 74,
   "metadata": {
    "collapsed": true
   },
   "outputs": [],
   "source": [
    "# USEFUL FUNCTIONS\n",
    "def create_dir(path):\n",
    "    try:\n",
    "        os.mkdir(path)\n",
    "    except:\n",
    "        pass\n",
    "# SETTINGS\n",
    "workdir   = \"_workdir/\"\n",
    "outputdir = \"outputs/\"\n",
    "label   = \"indentation_2D\"\n",
    "\n",
    "create_dir(workdir)\n",
    "create_dir(workdir + outputdir)\n"
   ]
  },
  {
   "cell_type": "code",
   "execution_count": 82,
   "metadata": {},
   "outputs": [
    {
     "name": "stdout",
     "output_type": "stream",
     "text": [
      "<Running \"RVE\" using abaqus>\n",
      "(b'Abaqus JOB RVE\\nAbaqus 6.13-1\\nBegin Analysis Input File Processor\\nTue Feb 20 22:57:24 2018\\nRun pre\\nTue Feb 20 22:57:26 2018\\nEnd Analysis Input File Processor\\nBegin Abaqus/Standard Analysis\\nTue Feb 20 22:57:26 2018\\nRun standard\\nTue Feb 20 22:57:37 2018\\nEnd Abaqus/Standard Analysis\\nAbaqus JOB RVE COMPLETED\\n', None)\n",
      "<Ran RVE: duration 17.12s>\n"
     ]
    }
   ],
   "source": [
    "shape = np.array([4, 4, 4])\n",
    "Ne = shape.prod()\n",
    "\n",
    "def element_map(mesh):\n",
    "    mesh.elements.loc[:, (\"type\", \"solver\", \"\") ] = \"C3D8\"\n",
    "    return mesh\n",
    "    \n",
    "    \n",
    "def material_map(mesh):\n",
    "    mesh.elements.materials = [\"mat{0}\".format(i) for i in mesh.elements.index]\n",
    "    return mesh\n",
    "\n",
    "dist = compmod2.distributions.Weibull(k = 1., l = 1.e-2)\n",
    "xt, x = dist.discretize(Ne, xmax = 1.)\n",
    "np.random.shuffle(x)\n",
    "materials = [ag.materials.ElasticPerfectlyPlastic(\n",
    "                                 label = \"mat{0}\".format(i+1), \n",
    "                                 young_modulus = E, \n",
    "                                 poisson_ratio = nu, \n",
    "                                 yield_stress = x[i] * E) \n",
    "                                 for i in range(Ne)]\n",
    "\n",
    "steps = [cp2.models.RVEStep(name = \"loading\", \n",
    "                            cx = (\"disp\", .1),\n",
    "                            field_output_frequency = 1),\n",
    "         cp2.models.RVEStep(name = \"loading2\", \n",
    "                            cx = (\"disp\", .1),\n",
    "                            cy = (\"disp\", .1),\n",
    "                            field_output_frequency = 1),]\n",
    "\n",
    "sample = cp2.models.RVESample(shape = shape,\n",
    "                              element_map = element_map,\n",
    "                              material_map = material_map)\n",
    "model = cp2.models.RVETest(label = \"RVE\",\n",
    "                           parts = {\"sample\":sample},\n",
    "                           steps = steps,\n",
    "                           materials = materials,\n",
    "                           solver = \"abaqus\", \n",
    "                           solver_path = local_settings.ABAQUS_PATH,\n",
    "                           workdir = workdir,\n",
    "                           verbose = True)\n",
    "model.write_input()\n",
    "model.run_simulation()"
   ]
  },
  {
   "cell_type": "code",
   "execution_count": null,
   "metadata": {
    "scrolled": false
   },
   "outputs": [],
   "source": []
  },
  {
   "cell_type": "code",
   "execution_count": null,
   "metadata": {},
   "outputs": [],
   "source": [
    "mesh = argiope.mesh.structured_mesh(shape = (10, 10, 10))\n",
    "mesh.nodes[(\"sets\", \"truc\")] = mesh.nodes.coords.x == 0.\n",
    "%timeit mesh.write_inp()"
   ]
  },
  {
   "cell_type": "code",
   "execution_count": null,
   "metadata": {},
   "outputs": [],
   "source": [
    "#%timeit s = materials[0].write_inp() + \"\\n\"\n",
    "print(materials[0].write_inp())"
   ]
  },
  {
   "cell_type": "code",
   "execution_count": null,
   "metadata": {},
   "outputs": [],
   "source": [
    "%%time \n",
    "out = \"\"\n",
    "for mat in materials:\n",
    "    out += mat.write_inp() + \"\\n\"\n"
   ]
  },
  {
   "cell_type": "code",
   "execution_count": null,
   "metadata": {},
   "outputs": [],
   "source": [
    "%%time \n",
    "s = \"\\n\".join([mat.write_inp() for mat in materials])\n"
   ]
  },
  {
   "cell_type": "code",
   "execution_count": null,
   "metadata": {},
   "outputs": [],
   "source": [
    "def list_to_string(l = range(200), width = 40, indent = \"  \"):\n",
    "    \"\"\"\n",
    "    Converts a list-like to string with given line width.\n",
    "    \"\"\"\n",
    "    l = [str(v) + \",\" for v in l]\n",
    "    counter = 0\n",
    "    out = \"\" + indent\n",
    "    for w in l:\n",
    "        s = len(w)\n",
    "        if counter + s > width: \n",
    "            out += \"\\n\" + indent\n",
    "            counter = 0\n",
    "        out += w\n",
    "        counter += s\n",
    "    return out.strip(\",\")\n",
    "\n",
    "\n",
    "print(list_to_string())"
   ]
  },
  {
   "cell_type": "code",
   "execution_count": 20,
   "metadata": {},
   "outputs": [
    {
     "name": "stdout",
     "output_type": "stream",
     "text": [
      "********************************************************************************\n",
      "** STEPS: $NAME\n",
      "********************************************************************************\n",
      "*STEP, NAME = $NAME, NLGEOM = YES, INC = 1000000\n",
      "*STATIC\n",
      "$FRAMEDURATION, $DURATION, $MINFRAMEDURATION, $FRAMEDURATION\n",
      "** BOUNDARY CONDITIONS\n",
      "*BOUNDARY, OP = NEW\n",
      "$DISP_CONTROL\n",
      "iSample.pinned, 1, 3\n",
      "** LOADS\n",
      "$LOAD_CONTROL\n",
      "*RESTART, WRITE, FREQUENCY = 0\n",
      "*OUTPUT, FIELD, FREQUENCY = $FIELD_OUTPUT_FREQUENCY\n",
      "*NODE OUTPUT\n",
      "U\n",
      "*ELEMENT OUTPUT\n",
      "EVOL, E, LE, PE, EE, PEEQ, S\n",
      "*OUTPUT, HISTORY\n",
      "*ENERGY OUTPUT\n",
      "ALLPD, ALLSE, ALLWK\n",
      "*NODE OUTPUT, NSET = iSample.control\n",
      "RF, CF, U\n",
      "*End Step\n",
      "\n"
     ]
    }
   ],
   "source": [
    "print(step_template)"
   ]
  },
  {
   "cell_type": "code",
   "execution_count": null,
   "metadata": {},
   "outputs": [],
   "source": [
    "m.nodes.loc[1000, [(\"coords\")]] = 10,10,10\n",
    "m.nodes.loc[1000,\"sets\"] = False\n",
    "m.nodes[(\"sets\", \"controlled\")] = False"
   ]
  },
  {
   "cell_type": "code",
   "execution_count": null,
   "metadata": {},
   "outputs": [],
   "source": [
    "\n",
    "n.coords[n.sets.left]\n"
   ]
  },
  {
   "cell_type": "code",
   "execution_count": null,
   "metadata": {},
   "outputs": [],
   "source": [
    "n.coords[n.sets.left  ].sort_values([\"y\", \"z\"],ascending = False)"
   ]
  },
  {
   "cell_type": "code",
   "execution_count": null,
   "metadata": {},
   "outputs": [],
   "source": [
    "n.coords[n.sets.right].sort_values([\"y\", \"z\"], ascending = False)"
   ]
  },
  {
   "cell_type": "code",
   "execution_count": null,
   "metadata": {},
   "outputs": [],
   "source": [
    "dist = compmod2.distributions.Weibull(k = 5., l = .01)\n",
    "xt, x = dist.discretize(Ne, xmax = 1. )"
   ]
  },
  {
   "cell_type": "code",
   "execution_count": null,
   "metadata": {
    "collapsed": true
   },
   "outputs": [],
   "source": [
    "import compmod2.distributions"
   ]
  },
  {
   "cell_type": "code",
   "execution_count": null,
   "metadata": {},
   "outputs": [],
   "source": [
    "eq = argiope.utils._equation\n",
    "%timeit eq(nodes = [\"uright\", \"uleft\", \"control\"], dofs = [1,1,1], coefficients = [1., -1., -1.])\n"
   ]
  },
  {
   "cell_type": "code",
   "execution_count": null,
   "metadata": {},
   "outputs": [],
   "source": [
    "%timeit s = sample.mesh.write_inp()"
   ]
  },
  {
   "cell_type": "code",
   "execution_count": null,
   "metadata": {},
   "outputs": [],
   "source": [
    "mesh = argiope.mesh.structured_mesh(shape = (10, 10, 10))\n",
    "for i in range(10):\n",
    "    mesh.nodes[(\"sets\", \"truc{0}\".format(i))] = mesh.nodes.coords.x == 0.\n",
    "mesh.elements.materials = [\"mat{0}\".format(i) for i in mesh.elements.index]\n",
    "mesh.elements.loc[:, (\"type\", \"solver\", \"\") ] = \"C3D8\"\n",
    "%timeit s=mesh.write_inp()"
   ]
  },
  {
   "cell_type": "code",
   "execution_count": null,
   "metadata": {},
   "outputs": [],
   "source": []
  },
  {
   "cell_type": "code",
   "execution_count": null,
   "metadata": {},
   "outputs": [],
   "source": [
    "m.elements.head()"
   ]
  },
  {
   "cell_type": "code",
   "execution_count": null,
   "metadata": {},
   "outputs": [],
   "source": [
    "def fstring():\n",
    "    out = \"\"\n",
    "    for i in range(1000):\n",
    "        out += \"aaaa\\n\"\n",
    "    return out\n",
    "\n",
    "%timeit fstring()"
   ]
  },
  {
   "cell_type": "code",
   "execution_count": null,
   "metadata": {},
   "outputs": [],
   "source": [
    "import numba\n",
    "nbfstring = numba.jit(fstring)\n",
    "%timeit nbfstring()"
   ]
  },
  {
   "cell_type": "code",
   "execution_count": 48,
   "metadata": {},
   "outputs": [
    {
     "data": {
      "text/plain": [
       "True"
      ]
     },
     "execution_count": 48,
     "metadata": {},
     "output_type": "execute_result"
    }
   ],
   "source": [
    "a = np.arange(10)\n",
    "hasattr(a, \"shape\")"
   ]
  },
  {
   "cell_type": "code",
   "execution_count": null,
   "metadata": {
    "collapsed": true
   },
   "outputs": [],
   "source": []
  }
 ],
 "metadata": {
  "kernelspec": {
   "display_name": "Python 3",
   "language": "python",
   "name": "python3"
  },
  "language_info": {
   "codemirror_mode": {
    "name": "ipython",
    "version": 3
   },
   "file_extension": ".py",
   "mimetype": "text/x-python",
   "name": "python",
   "nbconvert_exporter": "python",
   "pygments_lexer": "ipython3",
   "version": "3.6.1"
  }
 },
 "nbformat": 4,
 "nbformat_minor": 2
}
