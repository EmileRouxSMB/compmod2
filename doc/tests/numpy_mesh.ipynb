{
 "cells": [
  {
   "cell_type": "markdown",
   "metadata": {},
   "source": [
    "# Generating structured mesh with numpy"
   ]
  },
  {
   "cell_type": "code",
   "execution_count": 5,
   "metadata": {
    "collapsed": true
   },
   "outputs": [],
   "source": [
    "import argiope as ag\n",
    "import numpy as np\n",
    "import pandas as pd"
   ]
  },
  {
   "cell_type": "code",
   "execution_count": 32,
   "metadata": {},
   "outputs": [],
   "source": [
    "Nex, Ney = 2, 3 # Element numbers\n",
    "lx, ly = 1., 1. # Length\n",
    "nlabels = np.arange((Nex + 1) * (Ney +1)) + 1\n",
    "elabels = np.arange(Nex * Ney) + 1"
   ]
  },
  {
   "cell_type": "code",
   "execution_count": 33,
   "metadata": {},
   "outputs": [
    {
     "data": {
      "text/plain": [
       "array([[ 0. ,  0.5,  1. ],\n",
       "       [ 0. ,  0.5,  1. ],\n",
       "       [ 0. ,  0.5,  1. ],\n",
       "       [ 0. ,  0.5,  1. ]])"
      ]
     },
     "execution_count": 33,
     "metadata": {},
     "output_type": "execute_result"
    }
   ],
   "source": [
    "x = np.linspace(0., lx, Nex + 1)\n",
    "y = np.linspace(0., lx, Ney + 1)\n",
    "X, Y = np.meshgrid(x, y)\n",
    "X"
   ]
  },
  {
   "cell_type": "code",
   "execution_count": 34,
   "metadata": {},
   "outputs": [
    {
     "data": {
      "text/plain": [
       "array([[ 0.        ,  0.        ,  0.        ],\n",
       "       [ 0.33333333,  0.33333333,  0.33333333],\n",
       "       [ 0.66666667,  0.66666667,  0.66666667],\n",
       "       [ 1.        ,  1.        ,  1.        ]])"
      ]
     },
     "execution_count": 34,
     "metadata": {},
     "output_type": "execute_result"
    }
   ],
   "source": [
    "Y"
   ]
  },
  {
   "cell_type": "code",
   "execution_count": 35,
   "metadata": {},
   "outputs": [
    {
     "data": {
      "text/plain": [
       "array([[ 1,  2,  3,  4],\n",
       "       [ 5,  6,  7,  8],\n",
       "       [ 9, 10, 11, 12]])"
      ]
     },
     "execution_count": 35,
     "metadata": {},
     "output_type": "execute_result"
    }
   ],
   "source": [
    "nlabels = nlabels.reshape(Nex+1, Ney+1)\n",
    "nlabels"
   ]
  },
  {
   "cell_type": "code",
   "execution_count": 36,
   "metadata": {},
   "outputs": [
    {
     "data": {
      "text/plain": [
       "array([[1, 2, 3],\n",
       "       [4, 5, 6]])"
      ]
     },
     "execution_count": 36,
     "metadata": {},
     "output_type": "execute_result"
    }
   ],
   "source": [
    "elabels = elabels.reshape(Nex, Ney)\n",
    "elabels"
   ]
  },
  {
   "cell_type": "code",
   "execution_count": 37,
   "metadata": {},
   "outputs": [
    {
     "data": {
      "text/plain": [
       "array([[ 1,  2,  5,  6],\n",
       "       [ 2,  3,  6,  7],\n",
       "       [ 3,  4,  7,  8],\n",
       "       [ 5,  6,  9, 10],\n",
       "       [ 6,  7, 10, 11],\n",
       "       [ 7,  8, 11, 12]])"
      ]
     },
     "execution_count": 37,
     "metadata": {},
     "output_type": "execute_result"
    }
   ],
   "source": [
    "conn = []\n",
    "for i in range(Nex):\n",
    "    for j in range(Ney):\n",
    "        conn.append( nlabels[i:i+2, j:j+2].flatten() ) \n",
    "conn = np.array(conn)\n",
    "conn"
   ]
  },
  {
   "cell_type": "code",
   "execution_count": 38,
   "metadata": {},
   "outputs": [
    {
     "data": {
      "text/plain": [
       "array([[[ 1,  2,  6,  5],\n",
       "        [ 5,  6, 10,  9]],\n",
       "\n",
       "       [[ 2,  3,  7,  6],\n",
       "        [ 6,  7, 11, 10]],\n",
       "\n",
       "       [[ 3,  4,  8,  7],\n",
       "        [ 7,  8, 12, 11]]])"
      ]
     },
     "execution_count": 38,
     "metadata": {},
     "output_type": "execute_result"
    }
   ],
   "source": [
    "nl = nlabels\n",
    "np.array([\n",
    "    nl[  :-1,  :-1],\n",
    "    nl[  :-1, 1:  ],\n",
    "    nl[ 1:  , 1:  ],\n",
    "    nl[ 1:  ,  :-1],\n",
    "    ]).swapaxes(0,2)"
   ]
  },
  {
   "cell_type": "code",
   "execution_count": null,
   "metadata": {
    "collapsed": true
   },
   "outputs": [],
   "source": []
  }
 ],
 "metadata": {
  "kernelspec": {
   "display_name": "Python 3",
   "language": "python",
   "name": "python3"
  },
  "language_info": {
   "codemirror_mode": {
    "name": "ipython",
    "version": 3
   },
   "file_extension": ".py",
   "mimetype": "text/x-python",
   "name": "python",
   "nbconvert_exporter": "python",
   "pygments_lexer": "ipython3",
   "version": "3.6.1"
  }
 },
 "nbformat": 4,
 "nbformat_minor": 2
}
