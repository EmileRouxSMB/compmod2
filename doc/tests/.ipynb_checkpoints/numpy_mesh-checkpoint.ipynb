{
 "cells": [
  {
   "cell_type": "markdown",
   "metadata": {},
   "source": [
    "# Generating structured mesh with numpy"
   ]
  },
  {
   "cell_type": "code",
   "execution_count": 2,
   "metadata": {
    "collapsed": true
   },
   "outputs": [],
   "source": [
    "import argiope as ag\n",
    "import numpy as np\n",
    "import pandas as pd\n",
    "import numba"
   ]
  },
  {
   "cell_type": "code",
   "execution_count": 3,
   "metadata": {
    "collapsed": true
   },
   "outputs": [],
   "source": [
    "@numba.jit\n",
    "def _make_conn(shape):\n",
    "    \"\"\"\n",
    "    Connectivity builder using Numba for speed boost.\n",
    "    \"\"\"\n",
    "    shape = np.array(shape)\n",
    "    Ne = shape.prod()\n",
    "    if len(shape) == 2:\n",
    "        nx, ny = np.array(shape) +1 \n",
    "        conn = np.zeros((Ne, 4), dtype = np.int32)\n",
    "        counter = 0\n",
    "        pattern = np.array([0,1,1+nx,nx])\n",
    "        for j in range(shape[1]):\n",
    "            for i in range(shape[0]):\n",
    "                conn[counter] = pattern + 1 + i + j*nx\n",
    "                counter += 1\n",
    "        \n",
    "    if len(shape) == 3:\n",
    "        nx, ny, nz  = np.array(shape) +1 \n",
    "        conn = np.zeros((Ne, 8), dtype = np.int32)\n",
    "        counter = 0\n",
    "        pattern = np.array([0,1,1+nx,nx,nx*ny,1+nx*ny,1+(nx+1)*ny,(nx+1)*ny])\n",
    "        for k in range(shape[2]):\n",
    "            for j in range(shape[1]):\n",
    "                for i in range(shape[0]):\n",
    "                    conn[counter] = pattern + 1 + i + j*nx+ k*nx*ny\n",
    "                    counter += 1\n",
    "    return conn   \n",
    "\n",
    "def StructuredMesh(shape = (2,2,2), dim = (1.,1.,1.)):\n",
    "    \"\"\"\n",
    "    Returns a structured mesh.\n",
    "    \n",
    "    :arg shape: 2 or 3 integers (eg: shape = (10, 10, 10)).\n",
    "    :type shape: tuple\n",
    "    :arg dim: 2 or 3 floats (eg: dim = (4., 2., 1.))\n",
    "    :type dim: tuple\n",
    "        \n",
    "    \"\"\"\n",
    "    # PREPROCESSING\n",
    "    shape = np.array(shape)\n",
    "    dim   = np.array(dim) \n",
    "    Ne = shape.prod()\n",
    "    Nn = (shape + 1).prod()\n",
    "    # LABELS\n",
    "    nindex = np.arange(Nn) + 1\n",
    "    eindex = np.arange(Ne) + 1\n",
    "    # COORDINATES\n",
    "    coords = [ np.linspace(0., dim[i], shape[i] + 1) for i in range(len(shape))]\n",
    "    coords = np.array(np.meshgrid(*coords))\n",
    "    coords = np.array([c.swapaxes(0,1).flatten(\"F\") for c in coords]).T\n",
    "    if len(shape) == 2:\n",
    "        c = coords\n",
    "        coords = np.zeros((Nn, 3))\n",
    "        coords[:, :2] = c  \n",
    "    # CONNECTIVITY    \n",
    "    conn = _make_conn(shape)\n",
    "    # MESH INSTANCE\n",
    "    mesh = ag.mesh.Mesh(nlabels = nindex,\n",
    "                        coords  = coords,\n",
    "                        elabels = eindex,\n",
    "                        conn = conn,)\n",
    "    if len(shape) == 2: mesh.elements[(\"type\", \"argiope\")] = \"quad4\"\n",
    "    if len(shape) == 3: mesh.elements[(\"type\", \"argiope\")] = \"hexa8\"    \n",
    "    return mesh\n",
    "\n"
   ]
  },
  {
   "cell_type": "code",
   "execution_count": 5,
   "metadata": {},
   "outputs": [
    {
     "name": "stdout",
     "output_type": "stream",
     "text": [
      "72.9 ms ± 1.05 ms per loop (mean ± std. dev. of 7 runs, 10 loops each)\n"
     ]
    }
   ],
   "source": [
    "%timeit mesh = StructuredMesh(shape = (100,100,10))"
   ]
  },
  {
   "cell_type": "code",
   "execution_count": null,
   "metadata": {},
   "outputs": [],
   "source": [
    "mesh = StructuredMesh(shape = (100,10,10))\n",
    "mesh.elements"
   ]
  },
  {
   "cell_type": "code",
   "execution_count": null,
   "metadata": {},
   "outputs": [],
   "source": [
    "nindex = np.arange(1, Nn + 1)\n",
    "eindex = np.arange(1, Ne + 1)"
   ]
  },
  {
   "cell_type": "code",
   "execution_count": null,
   "metadata": {},
   "outputs": [],
   "source": [
    "#nindex = np.arange(1, Nn + 1).reshape(shape + 1)\n",
    "nx, ny, nz  = np.array(shape) +1 \n",
    "conn = np.zeros((Ne, 8), dtype = np.int32)\n",
    "counter = 0\n",
    "pattern = np.array([0,1,1+nx,nx,nx*ny,1+nx*ny,1+(nx+1)*ny,(nx+1)*ny])\n",
    "for k in range(shape[2]):\n",
    "    for j in range(shape[1]):\n",
    "        for i in range(shape[0]):\n",
    "            conn[counter] = pattern + 1 + i + j*nx+ k*nx*ny\n",
    "            counter += 1\n",
    "conn\n"
   ]
  },
  {
   "cell_type": "code",
   "execution_count": null,
   "metadata": {},
   "outputs": [],
   "source": [
    "nindex = np.arange(1, Nn + 1).reshape(shape[::-1] + 1)\n",
    "nindex[1, 0, 0]    "
   ]
  },
  {
   "cell_type": "code",
   "execution_count": null,
   "metadata": {},
   "outputs": [],
   "source": [
    "pd.DataFrame(coords, index = nindex.flatten())"
   ]
  },
  {
   "cell_type": "code",
   "execution_count": null,
   "metadata": {},
   "outputs": [],
   "source": [
    "'''\n",
    "# CONNECTIVITY\n",
    "nl = nlabels\n",
    "if len(Ne) == 2:\n",
    "    conn = np.array([\n",
    "           nl[  :-1,  :-1],\n",
    "           nl[  :-1, 1:  ],\n",
    "           nl[ 1:  , 1:  ],\n",
    "           nl[ 1:  ,  :-1],\n",
    "           ]).swapaxes(0,2).swapaxes(0,1).reshape(Ne.prod(), 4)\n",
    "    coords = np.array([ C.flatten() for C in Coords] + [ np.zeros((Ne+1).prod())]).T\n",
    "    etypes = [\"quad4\" for i in range(Ne.prod()) ]\n",
    "    \n",
    "    \n",
    "if len(Ne) == 3:\n",
    "    nl = nl#.swapaxes(1,2).T\n",
    "    conn = np.array([\n",
    "           nl[  :-1,  :-1,  :-1].flatten(),\n",
    "           nl[  :-1, 1:  ,  :-1].flatten(),\n",
    "           nl[ 1:  , 1:  ,  :-1].flatten(),\n",
    "           nl[ 1:  ,  :-1,  :-1].flatten(),\n",
    "           nl[  :-1,  :-1, 1:  ].flatten(),\n",
    "           nl[  :-1, 1:  , 1:  ].flatten(),\n",
    "           nl[ 1:  , 1:  , 1:  ].flatten(),\n",
    "           nl[ 1:  ,  :-1, 1:  ].flatten(),\n",
    "           ]).T#.swapaxes(0,2).swapaxes(0,1).reshape(Ne.prod(), 8)\n",
    "    Coords = Coords[[2,0,1]]\n",
    "    coords = np.array([ C.flatten() for C in Coords]).T\n",
    "    etypes = [\"hexa8\" for i in range(Ne.prod()) ]\n",
    "\n",
    "conn'''"
   ]
  },
  {
   "cell_type": "code",
   "execution_count": null,
   "metadata": {
    "collapsed": true
   },
   "outputs": [],
   "source": [
    "\n",
    "coords\n",
    "\n",
    "\n",
    "mesh = ag.mesh.Mesh(nlabels = nlabels.flatten(),\n",
    "             coords  = coords,\n",
    "             elabels = elabels.flatten(),\n",
    "             conn = conn,\n",
    "             types = etypes)\n",
    " "
   ]
  },
  {
   "cell_type": "code",
   "execution_count": null,
   "metadata": {},
   "outputs": [],
   "source": [
    "mesh.elements"
   ]
  },
  {
   "cell_type": "code",
   "execution_count": null,
   "metadata": {},
   "outputs": [],
   "source": [
    "mesh.nodes"
   ]
  },
  {
   "cell_type": "code",
   "execution_count": null,
   "metadata": {},
   "outputs": [],
   "source": [
    "mesh.stats()"
   ]
  },
  {
   "cell_type": "code",
   "execution_count": null,
   "metadata": {
    "collapsed": true
   },
   "outputs": [],
   "source": []
  },
  {
   "cell_type": "code",
   "execution_count": null,
   "metadata": {
    "collapsed": true
   },
   "outputs": [],
   "source": []
  },
  {
   "cell_type": "code",
   "execution_count": null,
   "metadata": {},
   "outputs": [],
   "source": [
    "np.arange(8).reshape(2,2,2).swapaxes(0,2)[ [0, 1, 1, 0, 0, 1, 1, 0] , [0, 0, 1,1, 0, 0, 1,1], [0,0,0,0,1,1,1,1] ]"
   ]
  },
  {
   "cell_type": "code",
   "execution_count": null,
   "metadata": {},
   "outputs": [],
   "source": [
    "shape = 2,2,2\n",
    " \n",
    "conn = []\n",
    "for k in range(shape[2]):\n",
    "    for j in range(shape[1]):\n",
    "        for i in range(shape[0]):\n",
    "            conn.append(\n",
    "            [ i    +  j    * shape[1] +  k    * shape[1] * shape[2] + 1, \n",
    "             (i+1) +  j    * shape[1] +  k    * shape[1] * shape[2] + 1, \n",
    "             (i+1) + (j+1) * shape[1] +  k    * shape[1] * shape[2] + 1,\n",
    "              i    + (j+1) * shape[1] +  k    * shape[1] * shape[2] + 1,\n",
    "              i    +  j    * shape[1] + (k+1) * shape[1] * shape[2] + 1, \n",
    "             (i+1) +  j    * shape[1] + (k+1) * shape[1] * shape[2] + 1, \n",
    "             (i+1) + (j+1) * shape[1] + (k+1) * shape[1] * shape[2] + 1,\n",
    "              i    + (j+1) * shape[1] + (k+1) * shape[1] * shape[2] + 1,\n",
    "            ]\n",
    "            )\n",
    "np.array(conn)\n"
   ]
  },
  {
   "cell_type": "code",
   "execution_count": null,
   "metadata": {},
   "outputs": [],
   "source": [
    "shape = 2,2,2\n",
    "nx, ny, nz  = np.array(shape) +1 \n",
    "\n",
    "i, j, k = 1, 1, 0\n",
    "np.array(\n",
    "[0,       1,       1+nx,        0+nx, \n",
    " 0+nx*ny, 1+nx*ny, 1+(nx+1)*ny, 0+(nx+1)*ny]) + 1 + i + j*nx + nx*ny*k"
   ]
  },
  {
   "cell_type": "code",
   "execution_count": null,
   "metadata": {},
   "outputs": [],
   "source": [
    "#make_conn( (100,100,10) )\n",
    "\n",
    "m = StructuredMesh(shape = (400,400), size = (2., 4., 8.))\n",
    "m.elements"
   ]
  },
  {
   "cell_type": "code",
   "execution_count": null,
   "metadata": {},
   "outputs": [],
   "source": [
    "_make_conn(shape = (1,1))"
   ]
  },
  {
   "cell_type": "code",
   "execution_count": null,
   "metadata": {},
   "outputs": [],
   "source": [
    "m.elements[(\"type\", \"argiope\", \"\")] = \"ddd\"\n",
    "m.elements"
   ]
  },
  {
   "cell_type": "code",
   "execution_count": null,
   "metadata": {},
   "outputs": [],
   "source": [
    "%%timeit\n",
    "x, y, z = np.meshgrid(np.arange(100), np.arange(100), np.arange(100))\n",
    "x, y, z = x.flatten(), y.flatten(), z.flatten()\n",
    "d = pd.DataFrame({\"x\":x, \"y\":y, \"z\":z})\n",
    "d.sort_values([\"z\", \"y\", \"x\"])"
   ]
  },
  {
   "cell_type": "code",
   "execution_count": null,
   "metadata": {},
   "outputs": [],
   "source": [
    "%%timeit\n",
    "shape = 100, 100, 100\n",
    "shape = np.array(shape)\n",
    "nx, ny, nz\n",
    "Ne = shape.prod()\n",
    "offsets = np.zeros(Ne)\n",
    "counter = 0\n",
    "for k in range(shape[2]):\n",
    "    for j in range(shape[1]):\n",
    "        for i in range(shape[0]):\n",
    "            offsets[counter] = 1 + i + j*nx+ k*nx*ny\n",
    "            counter += 1"
   ]
  },
  {
   "cell_type": "code",
   "execution_count": null,
   "metadata": {
    "collapsed": true
   },
   "outputs": [],
   "source": []
  }
 ],
 "metadata": {
  "kernelspec": {
   "display_name": "Python 3",
   "language": "python",
   "name": "python3"
  },
  "language_info": {
   "codemirror_mode": {
    "name": "ipython",
    "version": 3
   },
   "file_extension": ".py",
   "mimetype": "text/x-python",
   "name": "python",
   "nbconvert_exporter": "python",
   "pygments_lexer": "ipython3",
   "version": "3.6.1"
  }
 },
 "nbformat": 4,
 "nbformat_minor": 2
}
